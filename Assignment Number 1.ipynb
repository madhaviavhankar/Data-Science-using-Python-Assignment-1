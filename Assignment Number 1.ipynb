{
 "cells": [
  {
   "cell_type": "markdown",
   "metadata": {},
   "source": [
    "## Task 1\n",
    "##  madhavi.avhankar@gmail.com\n",
    "##  Madhavi Avhankar"
   ]
  },
  {
   "cell_type": "code",
   "execution_count": 1,
   "metadata": {},
   "outputs": [
    {
     "name": "stdout",
     "output_type": "stream",
     "text": [
      "5 5 5 5 5  \n",
      "5 5 5 5  \n",
      "5 5 5  \n",
      "5 5  \n",
      "5  \n",
      " \n"
     ]
    }
   ],
   "source": [
    "#Q.1\n",
    "\n",
    "for i in range(6, 0, -1):    \n",
    "    for j in range(0, i - 1):  \n",
    "        print(\"5\", end=' ')  \n",
    "    print(\" \") \n",
    "\n"
   ]
  },
  {
   "cell_type": "code",
   "execution_count": 2,
   "metadata": {},
   "outputs": [
    {
     "name": "stdout",
     "output_type": "stream",
     "text": [
      "0 1 2 3 4 5  \n",
      "0 1 2 3 4  \n",
      "0 1 2 3  \n",
      "0 1 2  \n",
      "0 1  \n"
     ]
    }
   ],
   "source": [
    "#Q.2\n",
    "\n",
    "for i in range(7, 2, -1):    \n",
    "    for j in range(0, i - 1):  \n",
    "        print(j, end=' ')  \n",
    "    print(\" \") \n"
   ]
  },
  {
   "cell_type": "code",
   "execution_count": 3,
   "metadata": {},
   "outputs": [
    {
     "name": "stdout",
     "output_type": "stream",
     "text": [
      "1  \n",
      "3 3  \n",
      "5 5 5  \n",
      "7 7 7 7  \n",
      "9 9 9 9 9  \n"
     ]
    }
   ],
   "source": [
    "#Q.3\n",
    "\n",
    "k=1\n",
    "for i in range(1, 6):    \n",
    "    for j in range(1, i+1):  \n",
    "        print(k, end=' ')  \n",
    "    print(\" \") \n",
    "    k=k+2\n"
   ]
  },
  {
   "cell_type": "code",
   "execution_count": 4,
   "metadata": {},
   "outputs": [
    {
     "name": "stdout",
     "output_type": "stream",
     "text": [
      "1  \n",
      "2 1  \n",
      "3 2 1  \n",
      "4 3 2 1  \n",
      "5 4 3 2 1  \n"
     ]
    }
   ],
   "source": [
    "#Q.4\n",
    "\n",
    "for i in range(1, 6):    \n",
    "    for j in range(i, 0,-1):  \n",
    "        print(j, end=' ')  \n",
    "    print(\" \") \n"
   ]
  },
  {
   "cell_type": "code",
   "execution_count": 5,
   "metadata": {},
   "outputs": [
    {
     "name": "stdout",
     "output_type": "stream",
     "text": [
      "1  \n",
      "3 2  \n",
      "6 5 4  \n",
      "10 9 8 7  \n"
     ]
    }
   ],
   "source": [
    "#Q.5\n",
    "\n",
    "k=1\n",
    "l=1\n",
    "for i in range(1, 5):    \n",
    "    for j in range(k, k-i,-1):  \n",
    "        print(j, end=' ')  \n",
    "        l=l+1\n",
    "    print(\" \") \n",
    "    k=k+l\n",
    "    l=1\n"
   ]
  },
  {
   "cell_type": "code",
   "execution_count": 6,
   "metadata": {},
   "outputs": [
    {
     "name": "stdout",
     "output_type": "stream",
     "text": [
      "1 \n",
      "1 1 \n",
      "1 2 1 \n",
      "1 3 3 1 \n",
      "1 4 6 4 1 \n",
      "1 5 10 10 5 1 \n",
      "1 6 15 20 15 6 1 \n"
     ]
    }
   ],
   "source": [
    "#Q.6\n",
    "\n",
    "c = 1\n",
    "l=7\n",
    "for i in range(1, l+1):\n",
    "    for j in range(0, i):\n",
    "        if j==0 or i==0:\n",
    "            c = 1\n",
    "        else:\n",
    "            c = c * (i - j)//j\n",
    "        print(c, end = \" \")\n",
    "    print()\n",
    "\n"
   ]
  },
  {
   "cell_type": "code",
   "execution_count": 7,
   "metadata": {},
   "outputs": [
    {
     "name": "stdout",
     "output_type": "stream",
     "text": [
      "1 2 3 4 5  \n",
      "2 2 3 4 5  \n",
      "3 3 3 4 5  \n",
      "4 4 4 4 5  \n",
      "5 5 5 5 5  \n"
     ]
    }
   ],
   "source": [
    "#Q.7\n",
    "k=1\n",
    "l=1\n",
    "for i in range(1, 6):    \n",
    "    for j in range(1,6):\n",
    "        if j<=k:\n",
    "          print(l,end=' ')  \n",
    "        else:\n",
    "          print(j, end=' ')  \n",
    "    print(\" \") \n",
    "    k=k+1\n",
    "    l=k\n",
    "\n"
   ]
  },
  {
   "cell_type": "code",
   "execution_count": 8,
   "metadata": {},
   "outputs": [
    {
     "name": "stdout",
     "output_type": "stream",
     "text": [
      "1  \n",
      "2 4  \n",
      "3 6 9  \n",
      "4 8 12 16  \n",
      "5 10 15 20 25  \n",
      "6 12 18 24 30 36  \n",
      "7 14 21 28 35 42 49  \n",
      "8 16 24 32 40 48 56 64  \n"
     ]
    }
   ],
   "source": [
    "#Q.8\n",
    "\n",
    "k=1\n",
    "l=1\n",
    "for i in range(1, 9):  \n",
    "  l=k;  \n",
    "  for j in range(1,i+1):\n",
    "    k=l*j\n",
    "    print(k, end=' ')  \n",
    "  print(\" \") \n",
    "  k=i+1\n",
    "\n"
   ]
  },
  {
   "cell_type": "code",
   "execution_count": 9,
   "metadata": {},
   "outputs": [
    {
     "name": "stdout",
     "output_type": "stream",
     "text": [
      "         * * * * * *\n",
      "          * * * * *\n",
      "           * * * *\n",
      "            * * *\n",
      "             * *\n",
      "              *\n"
     ]
    }
   ],
   "source": [
    "#Q.9\n",
    "\n",
    "r=5\n",
    "k=2*r-2\n",
    "for i in range(r, -1, -1):\n",
    "    for space in range(k,0, -1):\n",
    "        print(end=\" \")\n",
    "    k=k+1    \n",
    "    for j in range(0, i+1):\n",
    "        print(\" *\", end=\"\")\n",
    "    print(\"\")\n"
   ]
  },
  {
   "cell_type": "code",
   "execution_count": 10,
   "metadata": {},
   "outputs": [
    {
     "name": "stdout",
     "output_type": "stream",
     "text": [
      "            *   \n",
      "           *  *   \n",
      "          *  *  *   \n",
      "         *  *  *  *   \n",
      "        *  *  *  *  *   \n",
      "       *  *  *  *  *  *   \n",
      "      *  *  *  *  *  *  *   \n"
     ]
    }
   ],
   "source": [
    "#Q.10\n",
    "\n",
    "k = 7\n",
    "m = (2 * k) - 2\n",
    "for i in range(0, k):\n",
    "    for j in range(0, m):\n",
    "        print(end=\" \")\n",
    "    m = m - 1\n",
    "    for j in range(0, i + 1):\n",
    "        print(\"* \", end=' ')\n",
    "    print(\" \")\n"
   ]
  },
  {
   "cell_type": "code",
   "execution_count": 11,
   "metadata": {},
   "outputs": [
    {
     "name": "stdout",
     "output_type": "stream",
     "text": [
      "*  \n",
      "* *  \n",
      "* * *  \n",
      "* * * *  \n",
      "* * * * *  \n",
      "* * * * * *  \n",
      " \n",
      "* * * * * *  \n",
      "* * * * *  \n",
      "* * * *  \n",
      "* * *  \n",
      "* *  \n",
      "*  \n",
      " \n"
     ]
    }
   ],
   "source": [
    "#Q.11\n",
    "\n",
    "r = 6\n",
    "for i in range(0, r):\n",
    "    for j in range(0, i + 1):\n",
    "        print(\"*\", end=' ')\n",
    "    print(\" \")\n",
    "\n",
    "print(\" \")\n",
    "\n",
    "for i in range(r + 1, 0, -1):\n",
    "    for j in range(0, i - 1):\n",
    "        print(\"*\", end=' ')\n",
    "    print(\" \")\n"
   ]
  },
  {
   "cell_type": "code",
   "execution_count": 12,
   "metadata": {},
   "outputs": [
    {
     "name": "stdout",
     "output_type": "stream",
     "text": [
      "* \r\n",
      "* * \r\n",
      "* * * \r\n",
      "* * * * \r\n",
      "* * * * * \r\n",
      "* * * * \r\n",
      "* * * \r\n",
      "* * \r\n",
      "* \r\n",
      "\r\n"
     ]
    }
   ],
   "source": [
    "#Q.12\n",
    "\n",
    "r = 5\n",
    "for i in range(0, r):\n",
    "    for j in range(0, i + 1):\n",
    "        print(\"*\", end=' ')\n",
    "    print(\"\\r\")\n",
    "\n",
    "for i in range(r, 0, -1):\n",
    "    for j in range(0, i - 1):\n",
    "        print(\"*\", end=' ')\n",
    "    print(\"\\r\")\n"
   ]
  },
  {
   "cell_type": "code",
   "execution_count": 13,
   "metadata": {},
   "outputs": [
    {
     "name": "stdout",
     "output_type": "stream",
     "text": [
      "        * \n",
      "      * * \n",
      "    * * * \n",
      "  * * * * \n",
      "* * * * * \n",
      "  * * * * \n",
      "    * * * \n",
      "      * * \n",
      "        * \n",
      "          \n"
     ]
    }
   ],
   "source": [
    "#Q.13\n",
    "\n",
    "rows = 5\n",
    "i = 1\n",
    "while i <= r:\n",
    "    j = i\n",
    "    while j < r:\n",
    "        # display space\n",
    "        print(' ', end=' ')\n",
    "        j += 1\n",
    "    k = 1\n",
    "    while k <= i:\n",
    "        print('*', end=' ')\n",
    "        k += 1\n",
    "    print()\n",
    "    i += 1\n",
    "\n",
    "i = r\n",
    "while i >= 1:\n",
    "    j = i\n",
    "    while j <= r:\n",
    "        print(' ', end=' ')\n",
    "        j += 1\n",
    "    k = 1\n",
    "    while k < i:\n",
    "        print('*', end=' ')\n",
    "        k += 1\n",
    "    print('')\n",
    "    i -= 1\n",
    "\n"
   ]
  },
  {
   "cell_type": "code",
   "execution_count": 14,
   "metadata": {},
   "outputs": [
    {
     "name": "stdout",
     "output_type": "stream",
     "text": [
      "* * * * * \n",
      " * * * * \n",
      "  * * * \n",
      "   * * \n",
      "    * \n",
      "    * \n",
      "   * * \n",
      "  * * * \n",
      " * * * * \n",
      "* * * * * \n"
     ]
    }
   ],
   "source": [
    "#Q.14\n",
    "\n",
    "r = 5\n",
    "i = 0\n",
    "while i <= r - 1:\n",
    "    j = 0\n",
    "    while j < i:\n",
    "        # display space\n",
    "        print('', end=' ')\n",
    "        j += 1\n",
    "    k = i\n",
    "    while k <= r - 1:\n",
    "        print('*', end=' ')\n",
    "        k += 1\n",
    "    print()\n",
    "    i += 1\n",
    "\n",
    "i = r - 1\n",
    "while i >= 0:\n",
    "    j = 0\n",
    "    while j < i:\n",
    "        print('', end=' ')\n",
    "        j += 1\n",
    "    k = i\n",
    "    while k <= r - 1:\n",
    "        print('*', end=' ')\n",
    "        k += 1\n",
    "    print('')\n",
    "    i -= 1\n"
   ]
  },
  {
   "cell_type": "code",
   "execution_count": 15,
   "metadata": {},
   "outputs": [
    {
     "name": "stdout",
     "output_type": "stream",
     "text": [
      "**************\n",
      "******__******\n",
      "*****____*****\n",
      "****______****\n",
      "***________***\n",
      "**__________**\n",
      "*____________*\n"
     ]
    }
   ],
   "source": [
    "#Q.15\n",
    "\n",
    "r = 14\n",
    "print(\"*\" * r, end=\"\\n\")\n",
    "i = (r // 2) - 1\n",
    "j = 2\n",
    "while i != 0:\n",
    "    while j <= (r - 2):\n",
    "        print(\"*\" * i, end=\"\")\n",
    "        print(\"_\" * j, end=\"\")\n",
    "        print(\"*\" * i, end=\"\\n\")\n",
    "        i = i - 1\n",
    "        j = j + 2\n",
    "\n"
   ]
  },
  {
   "cell_type": "code",
   "execution_count": null,
   "metadata": {},
   "outputs": [],
   "source": []
  }
 ],
 "metadata": {
  "kernelspec": {
   "display_name": "Python 3",
   "language": "python",
   "name": "python3"
  },
  "language_info": {
   "codemirror_mode": {
    "name": "ipython",
    "version": 3
   },
   "file_extension": ".py",
   "mimetype": "text/x-python",
   "name": "python",
   "nbconvert_exporter": "python",
   "pygments_lexer": "ipython3",
   "version": "3.7.6"
  }
 },
 "nbformat": 4,
 "nbformat_minor": 4
}
